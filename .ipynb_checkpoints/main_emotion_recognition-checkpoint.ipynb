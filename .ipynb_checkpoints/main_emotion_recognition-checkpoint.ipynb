{
 "cells": [
  {
   "cell_type": "markdown",
   "metadata": {},
   "source": [
    "# A Network Tour of Data Science, EPFL 2016\n",
    "# Project: Facial Emotion Recognition\n",
    "students: Patryk Oleniuk, Carmen Galotta\n",
    "\n"
   ]
  },
  {
   "cell_type": "code",
   "execution_count": 160,
   "metadata": {
    "collapsed": false
   },
   "outputs": [
    {
     "name": "stdout",
     "output_type": "stream",
     "text": [
      "6000\n"
     ]
    }
   ],
   "source": [
    "import random\n",
    "import numpy as np\n",
    "import tensorflow as tf\n",
    "import matplotlib.pyplot as plt\n",
    "import csv\n",
    "import scipy.misc\n",
    "import time\n",
    "import collections\n",
    "import os\n",
    "import utils as ut\n",
    "import importlib\n",
    "\n",
    "importlib.reload(ut)\n",
    "\n",
    "# This is a bit of magic to make matplotlib figures appear inline in the notebook\n",
    "# rather than in a new window.\n",
    "%matplotlib inline\n",
    "plt.rcParams['figure.figsize'] = (20.0, 20.0) # set default size of plots\n",
    "plt.rcParams['image.interpolation'] = 'nearest'\n",
    "plt.rcParams['image.cmap'] = 'gray'\n",
    "\n",
    "#Data Visualization\n",
    "# Load the shortened raw CSV data, it contains only 300 pictures with labels\n",
    "emotions_dataset_dir = 'fer2013_6000.csv'\n",
    "\n",
    "#obtaining the number of line of the csv file\n",
    "file = open(emotions_dataset_dir)\n",
    "numline = len(file.readlines())\n",
    "print (numline)\n"
   ]
  },
  {
   "cell_type": "markdown",
   "metadata": {},
   "source": [
    "# Load the data from *.csv file \n",
    "The format od the csv line is<br>\n",
    "class{0,1,2,3,4,5,6},pix0 pix2304,DataUsage(not used)<br>\n",
    "e.g.<br>\n",
    "2,234 1 34 23 ..... 234 256 0,Training<br>\n",
    "The picture is always 48x48 pixels, 0-255 greyscale.\n",
    "# Remove crappy data\n",
    "In the database there are some images thar are not good (e.g. some images are pixelated, unrelevant, from animations).\n",
    "We try to filter them by looking at the maximum of the histogram. If the image is very homogenous, the maximum value of the histogram will be very high (above certain threshold)-> then we filter this image out. Of course we also remove some relevant information, but it's better for our CNN not to consider these images."
   ]
  },
  {
   "cell_type": "code",
   "execution_count": 161,
   "metadata": {
    "collapsed": false
   },
   "outputs": [
    {
     "name": "stdout",
     "output_type": "stream",
     "text": [
      "loaded  3% of dataset(227/6000). Filtered images: 27\n",
      "loaded  7% of dataset(442/6000). Filtered images: 42\n",
      "loaded 10% of dataset(657/6000). Filtered images: 57\n",
      "loaded 13% of dataset(873/6000). Filtered images: 73\n",
      "loaded 17% of dataset(1090/6000). Filtered images: 90\n",
      "loaded 20% of dataset(1304/6000). Filtered images: 104\n",
      "loaded 24% of dataset(1515/6000). Filtered images: 115\n",
      "loaded 27% of dataset(1733/6000). Filtered images: 133\n",
      "loaded 31% of dataset(1942/6000). Filtered images: 142\n",
      "loaded 34% of dataset(2153/6000). Filtered images: 153\n",
      "loaded 38% of dataset(2375/6000). Filtered images: 175\n",
      "loaded 41% of dataset(2596/6000). Filtered images: 196\n",
      "loaded 45% of dataset(2817/6000). Filtered images: 217\n",
      "loaded 49% of dataset(3033/6000). Filtered images: 233\n",
      "loaded 52% of dataset(3248/6000). Filtered images: 248\n",
      "loaded 56% of dataset(3476/6000). Filtered images: 276\n",
      "loaded 60% of dataset(3691/6000). Filtered images: 291\n",
      "loaded 63% of dataset(3908/6000). Filtered images: 308\n",
      "loaded 67% of dataset(4123/6000). Filtered images: 323\n",
      "loaded 71% of dataset(4343/6000). Filtered images: 343\n",
      "loaded 74% of dataset(4553/6000). Filtered images: 353\n",
      "loaded 74% of dataset(4554/6000). Filtered images: 354\n",
      "loaded 78% of dataset(4775/6000). Filtered images: 375\n",
      "loaded 82% of dataset(4997/6000). Filtered images: 397\n",
      "loaded 86% of dataset(5214/6000). Filtered images: 414\n",
      "loaded 90% of dataset(5436/6000). Filtered images: 436\n",
      "loaded 94% of dataset(5661/6000). Filtered images: 461\n",
      "loaded 98% of dataset(5885/6000). Filtered images: 485\n",
      "5506 are left after 'strange images' removal.\n",
      "Deleted 494 strange images. Images are shown below\n"
     ]
    }
   ],
   "source": [
    "#Load the file in csv\n",
    "ifile  = open(emotions_dataset_dir, \"rt\")\n",
    "reader = csv.reader(ifile)\n",
    "\n",
    "#preparing labels(Y) and images(X) data vectors\n",
    "rownum = 0\n",
    "num_data = numline;\n",
    "\n",
    "#preparing arrays\n",
    "emotions = np.zeros(num_data)\n",
    "images = np.zeros((num_data,48,48))\n",
    "strange_im = np.zeros((num_data,48,48))\n",
    "\n",
    "# for image pre-filtering\n",
    "num_strange = 0; #number of removed images\n",
    "hist_threshold = 270 # images above this threshold will be removed\n",
    "hist_div = 100 #parameter of the histogram\n",
    "\n",
    "#parsing each row\n",
    "for row in reader:\n",
    "    #(column0) extract the emotion label\n",
    "    #!!!! convert 1 and 0 together !!!!\n",
    "    if( (row[0] == '0') or (row[0] == '1' ) ):\n",
    "        emotions[rownum] = '0';\n",
    "    else :\n",
    "        emotions[rownum] = str(int(row[0])-1)\n",
    "\n",
    "    #(column1) extract the image data, parse it and convert into 48x48 array of integers\n",
    "    images[rownum] = np.asarray([int(s) for s in row[1].split(' ')]).reshape(48,48)\n",
    "    \n",
    "    #stretching contrast of the image\n",
    "    images[rownum] = ut.contrast_stretch(images[rownum])\n",
    "    \n",
    "    #calculating the histogram and erasing \"strange\" images\n",
    "    y_h, x_h = np.histogram( images[ rownum ] , 100 );\n",
    "    if y_h.max() > hist_threshold  : \n",
    "        # if img is 'strange'\n",
    "        strange_im[num_strange,:,:] = images[rownum,:,:]\n",
    "        num_data = num_data - 1;\n",
    "        images = np.delete(images, rownum, axis = 0);\n",
    "        emotions = np.delete(emotions, rownum)\n",
    "        #print('deleted:' + str(rownum))\n",
    "        num_strange += 1;   \n",
    "    else:\n",
    "        rownum += 1\n",
    "    if not rownum%200:\n",
    "        print(\"loaded %2.0f\" % ((float(rownum ) /num_data)*100) \n",
    "              + '% of dataset('+ str(rownum+num_strange)+'/'+ str(numline) + '). Filtered images: ' + str(num_strange) )\n",
    "ifile.close()\n",
    "\n",
    "print(str( len(images) ) + ' are left after \\'strange images\\' removal.')\n",
    "print('Deleted ' + str( num_strange ) + ' strange images. Images are shown below')\n",
    "\n",
    "# showing strange images\n",
    "#for i in range(0,int(num_strange)):\n",
    "#    plt.subplot( int(np.ceil(num_strange/5)),5,  i+1)\n",
    "#    plt.imshow(strange_im[i])\n",
    "#    y_h, x_h = np.histogram( strange_im[i,:,:] ,hist_div);\n",
    "#    strange_im.sort(axis=0, )\n",
    "#    plt.axis('off')\n",
    "#    plt.title('max(hist) = ' + str(y_h.max()))"
   ]
  },
  {
   "cell_type": "markdown",
   "metadata": {},
   "source": [
    "# Explore the data\n",
    "Plot some random pictures from each class."
   ]
  },
  {
   "cell_type": "code",
   "execution_count": 207,
   "metadata": {
    "collapsed": false
   },
   "outputs": [
    {
     "data": {
      "image/png": "[encoded data removed]",
      "text/plain": [
       "<matplotlib.figure.Figure at 0x1323c8eb8>"
      ]
     },
     "metadata": {},
     "output_type": "display_data"
    }
   ],
   "source": [
    "classes = [0,1,2,3,4,5]\n",
    "str_emotions = ['angry','scared','happy','sad','surprised','normal']\n",
    "num_classes = len(classes)\n",
    "samples_per_class = 6\n",
    "for y, cls in enumerate(classes):\n",
    "    idxs = np.flatnonzero(emotions == y)\n",
    "    idxs = np.random.choice(idxs, samples_per_class, replace=False)\n",
    "    for i, idx in enumerate(idxs):\n",
    "        plt_idx = i * num_classes + y + 1\n",
    "        plt.subplot(samples_per_class, num_classes, plt_idx)\n",
    "        plt.imshow(images[idx])\n",
    "        y_h, x_h = np.histogram( images[idx], hist_div );\n",
    "        plt.axis('off')\n",
    "        plt.title(str_emotions[y] )\n",
    "plt.show()"
   ]
  },
  {
   "cell_type": "markdown",
   "metadata": {},
   "source": [
    "# Prepare the Data for CNN\n",
    "create train and test data"
   ]
  },
  {
   "cell_type": "code",
   "execution_count": 213,
   "metadata": {
    "collapsed": false
   },
   "outputs": [
    {
     "name": "stdout",
     "output_type": "stream",
     "text": [
      "number of clean data:5506  48x48 pix , 0-255 greyscale images\n",
      "orig train data (5395, 48, 48)\n",
      "orig train labels (5395,)from 0.0 to 5.0\n",
      "orig test data (111, 48, 48)\n",
      "orig test labels (111,)from 0.0 to 5.0\n",
      "TRAIN: number of 0 labels 845\n",
      "TRAIN: number of 1 labels 774\n",
      "TRAIN: number of 2 labels 1417\n",
      "TRAIN: number of 3 labels 884\n",
      "TRAIN: number of 4 labels 547\n",
      "TRAIN: number of 5 labels 928\n",
      "TEST: number of 0 labels 17\n",
      "TEST: number of 1 labels 13\n",
      "TEST: number of 2 labels 24\n",
      "TEST: number of 3 labels 22\n",
      "TEST: number of 4 labels 11\n",
      "TEST: number of 5 labels 24\n"
     ]
    }
   ],
   "source": [
    "print('number of clean data:' + str(images.shape[0]) + '  48x48 pix , 0-255 greyscale images')\n",
    "n_all = images.shape[0];\n",
    "n_train = 111; # number of data for training and for batch\n",
    "\n",
    "# dividing the input data\n",
    "train_data_orig = images[0:n_all-n_train,:,:]\n",
    "train_labels = emotions[0:n_all-n_train]\n",
    "test_data_orig = images[n_all-n_train:n_all,:,:]\n",
    "test_labels = emotions[n_all-n_train:n_all]\n",
    "\n",
    "print('orig train data ' + str(train_data_orig.shape))\n",
    "print('orig train labels ' + str(train_labels.shape) + 'from ' + str(train_labels.min()) + ' to ' + str(train_labels.max()) )\n",
    "print('orig test data ' + str(test_data_orig.shape))\n",
    "print('orig test labels ' + str(test_labels.shape)+ 'from ' + str(test_labels.min()) + ' to ' + str(test_labels.max()) )\n",
    "print('TRAIN: number of 0 labels',len(train_labels[train_labels == 0]))\n",
    "print('TRAIN: number of 1 labels',len(train_labels[train_labels == 1]))\n",
    "print('TRAIN: number of 2 labels',len(train_labels[train_labels == 2]))\n",
    "print('TRAIN: number of 3 labels',len(train_labels[train_labels == 3]))\n",
    "print('TRAIN: number of 4 labels',len(train_labels[train_labels == 4]))\n",
    "print('TRAIN: number of 5 labels',len(train_labels[train_labels == 5]))\n",
    "print('TEST: number of 0 labels',len(test_labels[test_labels == 0]))\n",
    "print('TEST: number of 1 labels',len(test_labels[test_labels == 1]))\n",
    "print('TEST: number of 2 labels',len(test_labels[test_labels == 2]))\n",
    "print('TEST: number of 3 labels',len(test_labels[test_labels == 3]))\n",
    "print('TEST: number of 4 labels',len(test_labels[test_labels == 4]))\n",
    "print('TEST: number of 5 labels',len(test_labels[test_labels== 5]))\n",
    "#plt.imshow(train_data_orig[0,:,:])"
   ]
  },
  {
   "cell_type": "markdown",
   "metadata": {
    "collapsed": false
   },
   "source": [
    "# Convert, normalize, subtract the const mean value from the data\n"
   ]
  },
  {
   "cell_type": "code",
   "execution_count": 214,
   "metadata": {
    "collapsed": false
   },
   "outputs": [
    {
     "name": "stdout",
     "output_type": "stream",
     "text": [
      "(5395, 2304)\n",
      "(111, 2304)\n",
      "-0.0261129868292\n",
      "-0.0373232126829\n"
     ]
    }
   ],
   "source": [
    "# Data pre-processing\n",
    "n = train_data_orig.shape[0];\n",
    "train_data = np.zeros([n,48**2])\n",
    "for i in range(n):\n",
    "    xx = train_data_orig[i,:,:]\n",
    "    xx -= np.mean(xx)\n",
    "    xx /= np.linalg.norm(xx)\n",
    "    train_data[i,:] = xx.reshape(2304); #np.reshape(xx,[-1])\n",
    "\n",
    "n = test_data_orig.shape[0]\n",
    "test_data = np.zeros([n,48**2])\n",
    "for i in range(n):\n",
    "    xx = test_data_orig[i,:,:]\n",
    "    xx -= np.mean(xx)\n",
    "    xx /= np.linalg.norm(xx)\n",
    "    test_data[i] = np.reshape(xx,[-1])\n",
    "\n",
    "print(train_data.shape)\n",
    "print(test_data.shape)\n",
    "print(train_data_orig[0][2][2])\n",
    "print(test_data[0][2])\n",
    "#plt.imshow(train_data[0].reshape([48,48]))"
   ]
  },
  {
   "cell_type": "code",
   "execution_count": 215,
   "metadata": {
    "collapsed": false
   },
   "outputs": [
    {
     "name": "stdout",
     "output_type": "stream",
     "text": [
      "(5395, 6)\n",
      "(111, 6)\n"
     ]
    }
   ],
   "source": [
    "# Convert label values to one_hot vector\n",
    "\n",
    "train_labels = ut.convert_to_one_hot(train_labels,num_classes)\n",
    "test_labels = ut.convert_to_one_hot(test_labels,num_classes)\n",
    "\n",
    "print(train_labels.shape)\n",
    "print(test_labels.shape)"
   ]
  },
  {
   "cell_type": "markdown",
   "metadata": {},
   "source": [
    "# Model \n",
    "\n",
    "Define a convolutional neural network classifier:\n",
    "\n",
    "$$\n",
    "y=\\textrm{softmax}(ReLU(  ( sum_{reduced}(x\\ast W_0)+b_0) \\ast W_1+b_1)W_2+b_2) )\n",
    "$$\n",
    "with/out dropout regularization"
   ]
  },
  {
   "cell_type": "code",
   "execution_count": 219,
   "metadata": {
    "collapsed": false
   },
   "outputs": [
    {
     "name": "stdout",
     "output_type": "stream",
     "text": [
      "Wcl= (10, 10, 1, 64)\n",
      "bcl= (64,)\n",
      "x_2d= (111, 48, 48, 1)\n",
      "x2_red_sum= (111, 64)\n",
      "x2= (111, 64)\n",
      "Wcl1= (3, 3, 1, 15)\n",
      "bcl1= (15,)\n",
      "x_2d1= (111, 8, 8, 1)\n",
      "x2= (111, 8, 8, 15)\n",
      "x3= (111, 960)\n",
      "Wfc= (960, 6)\n",
      "bfc= (6,)\n",
      "y1= (111, 6)\n",
      "y2= (111, 6)\n",
      "y3(SOFTMAX)= (111, 6)\n"
     ]
    }
   ],
   "source": [
    "# Define computational graph (CG)\n",
    "batch_size = n_train    # batch size\n",
    "d = train_data.shape[1]  # data dimensionality\n",
    "nc = 6                  # number of classes\n",
    "\n",
    "# CG inputs\n",
    "xin = tf.placeholder(tf.float32,[batch_size,d]); #print('xin=',xin,xin.get_shape())\n",
    "y_label = tf.placeholder(tf.float32,[batch_size,nc]); #print('y_label=',y_label,y_label.get_shape())\n",
    "d = tf.placeholder(tf.float32);\n",
    "\n",
    "# Convolutional layer\n",
    "K0 = 10   # size of the patch\n",
    "F0 = 64  # number of filters\n",
    "ncl0 = K0*K0*F0\n",
    "Wcl0 = tf.Variable(tf.truncated_normal([K0,K0,1,F0], stddev=tf.sqrt(2./tf.to_float(ncl0)) )); print('Wcl=',Wcl0.get_shape())\n",
    "bcl0 = tf.Variable(tf.zeros([F0])); print('bcl=',bcl0.get_shape())\n",
    "x_2d0 = tf.reshape(xin, [-1,48,48,1]); print('x_2d=',x_2d0.get_shape())\n",
    "x = tf.nn.conv2d(x_2d0, Wcl0, strides=[1, 1, 1, 1], padding='SAME')\n",
    "x = tf.reduce_sum(x, [1,2]); print('x2_red_sum=',x.get_shape())\n",
    "x += bcl0; print('x2=',x.get_shape())\n",
    "\n",
    "# ReLU activation\n",
    "# x = tf.nn.relu(x)\n",
    "\n",
    "# Convolutional layer\n",
    "K1 = 3   # size of the patch\n",
    "F1 = 15  # number of filters\n",
    "ncl1 = K1*K1*F1\n",
    "Wcl1 = tf.Variable(tf.truncated_normal([K1,K1,1,F1], stddev=tf.sqrt(2./tf.to_float(ncl1)) )); print('Wcl1=',Wcl1.get_shape())\n",
    "bcl1 = tf.Variable(tf.zeros([F1])); print('bcl1=',bcl1.get_shape())\n",
    "x_2d1 = tf.reshape(x, [-1,8,8,1]); print('x_2d1=',x_2d1.get_shape())\n",
    "x = tf.nn.conv2d(x_2d1, Wcl1, strides=[1, 1, 1, 1], padding='SAME')\n",
    "x += bcl1; print('x2=',x.get_shape())\n",
    "\n",
    "# ReLU activation\n",
    "x = tf.nn.relu(x)\n",
    "\n",
    "# Dropout\n",
    "#x = tf.nn.dropout(x, d)\n",
    "\n",
    "# Fully Connected layer\n",
    "nfc = 8*8*F1\n",
    "x = tf.reshape(x, [batch_size,-1]); print('x3=',x.get_shape())\n",
    "Wfc = tf.Variable(tf.truncated_normal([nfc,nc], stddev=tf.sqrt(6./tf.to_float(nfc+nc)) )); print('Wfc=',Wfc.get_shape())\n",
    "bfc = tf.Variable(tf.zeros([nc])); print('bfc=',bfc.get_shape())\n",
    "y = tf.matmul(x, Wfc); print('y1=',y.get_shape())\n",
    "y += bfc; print('y2=',y.get_shape())\n",
    "\n",
    "# Softmax\n",
    "y = tf.nn.softmax(y); print('y3(SOFTMAX)=',y.get_shape())\n",
    "\n",
    "# Loss\n",
    "cross_entropy = tf.reduce_mean(-tf.reduce_sum(y_label * tf.log(y), 1))\n",
    "total_loss = cross_entropy\n",
    "\n",
    "# Optimization scheme\n",
    "train_step = tf.train.GradientDescentOptimizer(0.25).minimize(total_loss)\n",
    "#train_step = tf.train.AdamOptimizer(0.005).minimize(total_loss)\n",
    "\n",
    "# Accuracy\n",
    "correct_prediction = tf.equal(tf.argmax(y,1), tf.argmax(y_label,1))\n",
    "accuracy = tf.reduce_mean(tf.cast(correct_prediction, tf.float32))"
   ]
  },
  {
   "cell_type": "markdown",
   "metadata": {},
   "source": [
    "# Runing the computational graph"
   ]
  },
  {
   "cell_type": "code",
   "execution_count": null,
   "metadata": {
    "collapsed": false
   },
   "outputs": [
    {
     "name": "stdout",
     "output_type": "stream",
     "text": [
      "\n",
      "Iteration i= 0 , train accuracy= 0.261261 , loss= 1.7627\n",
      "test accuracy= 0.207207\n",
      "\n",
      "Iteration i= 50 , train accuracy= 0.333333 , loss= 1.71677\n",
      "test accuracy= 0.216216\n",
      "\n",
      "Iteration i= 100 , train accuracy= 0.315315 , loss= 1.69876\n",
      "test accuracy= 0.225225\n",
      "\n",
      "Iteration i= 150 , train accuracy= 0.234234 , loss= 1.73711\n",
      "test accuracy= 0.288288\n",
      "\n",
      "Iteration i= 200 , train accuracy= 0.252252 , loss= 1.76666\n",
      "test accuracy= 0.243243\n"
     ]
    }
   ],
   "source": [
    "# Run Computational Graph\n",
    "n = train_data.shape[0]\n",
    "indices = collections.deque()\n",
    "init = tf.initialize_all_variables()\n",
    "sess = tf.Session()\n",
    "sess.run(init)\n",
    "for i in range(10001):\n",
    "    \n",
    "    # Batch extraction\n",
    "    if len(indices) < batch_size:\n",
    "        indices.extend(np.random.permutation(n)) \n",
    "    idx = [indices.popleft() for i in range(batch_size)]\n",
    "    batch_x, batch_y = train_data[idx,:], train_labels[idx]\n",
    "    #print(batch_x.shape,batch_y.shape)\n",
    "    \n",
    "    # Run CG for variable training\n",
    "    _,acc_train,total_loss_o = sess.run([train_step,accuracy,total_loss], feed_dict={xin: batch_x, y_label: batch_y})\n",
    "    \n",
    "    # Run CG for test set\n",
    "    if not i%50:\n",
    "        print('\\nIteration i=',i,', train accuracy=',acc_train,', loss=',total_loss_o)\n",
    "        acc_test = sess.run(accuracy, feed_dict={xin: test_data, y_label: test_labels})\n",
    "        print('test accuracy=',acc_test)"
   ]
  },
  {
   "cell_type": "markdown",
   "metadata": {},
   "source": [
    "# Feeding the  CNN with some data (camera/file)"
   ]
  },
  {
   "cell_type": "code",
   "execution_count": 170,
   "metadata": {
    "collapsed": false
   },
   "outputs": [
    {
     "name": "stdout",
     "output_type": "stream",
     "text": [
      "scared\n"
     ]
    },
    {
     "data": {
      "image/png": "[encoded data removed]",
      "text/plain": [
       "<matplotlib.figure.Figure at 0x121242518>"
      ]
     },
     "metadata": {},
     "output_type": "display_data"
    },
    {
     "data": {
      "image/png": "[encoded data removed]",
      "text/plain": [
       "<matplotlib.figure.Figure at 0x1382e7dd8>"
      ]
     },
     "metadata": {},
     "output_type": "display_data"
    },
    {
     "ename": "KeyboardInterrupt",
     "evalue": "",
     "output_type": "error",
     "traceback": [
      "\u001b[0;31m---------------------------------------------------------------------------\u001b[0m",
      "\u001b[0;31mKeyboardInterrupt\u001b[0m                         Traceback (most recent call last)",
      "\u001b[0;32m<ipython-input-170-0f0a0d9d0ae6>\u001b[0m in \u001b[0;36m<module>\u001b[0;34m()\u001b[0m\n\u001b[1;32m      7\u001b[0m \u001b[0mcntr\u001b[0m \u001b[0;34m=\u001b[0m \u001b[0;36m0\u001b[0m\u001b[0;34m;\u001b[0m\u001b[0;34m\u001b[0m\u001b[0m\n\u001b[1;32m      8\u001b[0m \u001b[0;32mwhile\u001b[0m\u001b[0;34m(\u001b[0m\u001b[0;36m1\u001b[0m\u001b[0;34m)\u001b[0m\u001b[0;34m:\u001b[0m\u001b[0;34m\u001b[0m\u001b[0m\n\u001b[0;32m----> 9\u001b[0;31m     \u001b[0mfaces\u001b[0m\u001b[0;34m,\u001b[0m \u001b[0mmarked_img\u001b[0m \u001b[0;34m=\u001b[0m \u001b[0mut\u001b[0m\u001b[0;34m.\u001b[0m\u001b[0mget_faces_from_img\u001b[0m\u001b[0;34m(\u001b[0m\u001b[0;34m'camera'\u001b[0m\u001b[0;34m)\u001b[0m\u001b[0;34m;\u001b[0m\u001b[0;34m\u001b[0m\u001b[0m\n\u001b[0m\u001b[1;32m     10\u001b[0m \u001b[0;34m\u001b[0m\u001b[0m\n\u001b[1;32m     11\u001b[0m     \u001b[0;31m# if some face was found in the camera image\u001b[0m\u001b[0;34m\u001b[0m\u001b[0;34m\u001b[0m\u001b[0m\n",
      "\u001b[0;32m/Users/patryk/git/emotion_recognition/utils.py\u001b[0m in \u001b[0;36mget_faces_from_img\u001b[0;34m(img_path)\u001b[0m\n\u001b[1;32m     38\u001b[0m         \u001b[0mscaleFactor\u001b[0m\u001b[0;34m=\u001b[0m\u001b[0;36m1.1\u001b[0m\u001b[0;34m,\u001b[0m\u001b[0;34m\u001b[0m\u001b[0m\n\u001b[1;32m     39\u001b[0m         \u001b[0mminNeighbors\u001b[0m\u001b[0;34m=\u001b[0m\u001b[0;36m5\u001b[0m\u001b[0;34m,\u001b[0m\u001b[0;34m\u001b[0m\u001b[0m\n\u001b[0;32m---> 40\u001b[0;31m         \u001b[0mminSize\u001b[0m\u001b[0;34m=\u001b[0m\u001b[0;34m(\u001b[0m\u001b[0;36m30\u001b[0m\u001b[0;34m,\u001b[0m \u001b[0;36m30\u001b[0m\u001b[0;34m)\u001b[0m\u001b[0;34m\u001b[0m\u001b[0m\n\u001b[0m\u001b[1;32m     41\u001b[0m     )\n\u001b[1;32m     42\u001b[0m \u001b[0;34m\u001b[0m\u001b[0m\n",
      "\u001b[0;31mKeyboardInterrupt\u001b[0m: "
     ]
    }
   ],
   "source": [
    "import PIL\n",
    "from IPython.display import clear_output\n",
    "\n",
    "clear_output()\n",
    "plt.rcParams['figure.figsize'] = (1.0, 1.0) # set default size of plots\n",
    "#plot = plt.imshow(strange_im[0])\n",
    "cntr = 0;\n",
    "while(1):\n",
    "    faces, marked_img = ut.get_faces_from_img('camera');\n",
    "    \n",
    "    # if some face was found in the camera image\n",
    "    if(len(faces)):\n",
    "        \n",
    "        #creating the blank training thing\n",
    "        data_orig = np.zeros([n_train, 48,48])\n",
    "\n",
    "        for i in range(0, len(faces)):\n",
    "            data_orig[i,:,:] = ut.contrast_stretch(faces[i,:,:]);\n",
    "\n",
    "        #preparing image and putting it into the batch\n",
    "        n = data_orig.shape[0];\n",
    "        data = np.zeros([n,48**2])\n",
    "        for i in range(n):\n",
    "            xx = data_orig[i,:,:]\n",
    "            xx -= np.mean(xx)\n",
    "            xx /= np.linalg.norm(xx)\n",
    "            data[i,:] = xx.reshape(2304); #np.reshape(xx,[-1])\n",
    "\n",
    "        result = sess.run([y], feed_dict={xin: data, d: 1.0})\n",
    "        emotion_nr = np.argmax(result[0][0]);\n",
    "        clear_output()\n",
    "        print(str_emotions[emotion_nr])\n",
    "        plt.subplots()\n",
    "        plt.imshow(data_orig[0,:,:])\n",
    "        fig, ax = plt.subplots()\n",
    "        ax.bar(np.arange(nc) , result[0][0])\n",
    "        ax.set_xticklabels(('0', '1', '2', '3','4','5' ))\n",
    "        plt.show()\n",
    "        \n",
    "    "
   ]
  },
  {
   "cell_type": "code",
   "execution_count": null,
   "metadata": {
    "collapsed": true
   },
   "outputs": [],
   "source": []
  }
 ],
 "metadata": {
  "anaconda-cloud": {},
  "celltoolbar": "Edit Metadata",
  "kernelspec": {
   "display_name": "Python [conda root]",
   "language": "python",
   "name": "conda-root-py"
  }
 },
 "nbformat": 4,
 "nbformat_minor": 1
}
